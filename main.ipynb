{
 "cells": [
  {
   "cell_type": "code",
   "execution_count": 17,
   "id": "ecfbd0b8",
   "metadata": {},
   "outputs": [
    {
     "name": "stderr",
     "output_type": "stream",
     "text": [
      "[nltk_data] Downloading package punkt to /home/alexey/nltk_data...\n",
      "[nltk_data]   Package punkt is already up-to-date!\n",
      "[nltk_data] Downloading package wordnet to /home/alexey/nltk_data...\n",
      "[nltk_data]   Package wordnet is already up-to-date!\n"
     ]
    },
    {
     "data": {
      "text/plain": [
       "True"
      ]
     },
     "execution_count": 17,
     "metadata": {},
     "output_type": "execute_result"
    }
   ],
   "source": [
    "import nltk\n",
    "import os\n",
    "from nltk.tokenize import sent_tokenize, word_tokenize\n",
    "from pymystem3 import Mystem\n",
    "import json\n",
    "\n",
    "nltk.download('punkt')\n",
    "nltk.download('wordnet')"
   ]
  },
  {
   "cell_type": "code",
   "execution_count": 5,
   "id": "886acd19",
   "metadata": {},
   "outputs": [],
   "source": [
    "sentenses = []\n",
    "for file in os.listdir('./texts'):\n",
    "    with open('./texts/' + file) as f:\n",
    "        s = f.read()\n",
    "        sentenses.extend(sent_tokenize(s, \"russian\"))    "
   ]
  },
  {
   "cell_type": "code",
   "execution_count": 7,
   "id": "d125c802",
   "metadata": {},
   "outputs": [
    {
     "data": {
      "text/plain": [
       "['Спасителем отрасли в ролике, понятно, выступает белый и пушистый «Спартак».',\n",
       " 'За полем москвичи были весьма креативны, но грош цена таким дерзким творениям, если в игре ты не гордый рыцарь, а лузер-неудачник, каким, будем откровенны, спартаковцы в большей части сезона и выглядели.',\n",
       " 'Фразу гендиректора клуба Евгения Мележикова о необходимости чемпионства к столетию «позарез» припоминали постоянно.',\n",
       " 'Она действительно яркая, а забавной стала уже на старте РПЛ, когда выяснилось, что красно-белым уготована в лучшем случае роль середняка.']"
      ]
     },
     "execution_count": 7,
     "metadata": {},
     "output_type": "execute_result"
    }
   ],
   "source": [
    "sentenses[4:8]"
   ]
  },
  {
   "cell_type": "code",
   "execution_count": 11,
   "id": "d46c7e65",
   "metadata": {},
   "outputs": [
    {
     "name": "stderr",
     "output_type": "stream",
     "text": [
      "Installing mystem to /home/alexey/.local/bin/mystem from http://download.cdn.yandex.net/mystem/mystem-3.1-linux-64bit.tar.gz\n"
     ]
    }
   ],
   "source": [
    "m = Mystem()"
   ]
  },
  {
   "cell_type": "code",
   "execution_count": 15,
   "id": "4f8f3b5f",
   "metadata": {},
   "outputs": [],
   "source": [
    "analys_sent = []\n",
    "for sent in sentenses:\n",
    "    analys_sent.append(m.analyze(sent))\n"
   ]
  },
  {
   "cell_type": "code",
   "execution_count": 20,
   "id": "c30e4923",
   "metadata": {},
   "outputs": [
    {
     "data": {
      "text/plain": [
       "[{'analysis': [{'lex': 'перед', 'wt': 0.9997082151, 'gr': 'PR='}],\n",
       "  'text': 'Перед'},\n",
       " {'text': ' '},\n",
       " {'analysis': [{'lex': 'матч', 'wt': 1, 'gr': 'S,муж,неод=твор,ед'}],\n",
       "  'text': 'матчем'},\n",
       " {'text': ' '},\n",
       " {'analysis': [{'lex': 'с', 'wt': 0.999977831, 'gr': 'PR='}], 'text': 'с'},\n",
       " {'text': ' «'},\n",
       " {'analysis': [{'lex': 'зенит', 'wt': 1, 'gr': 'S,муж,неод=твор,ед'}],\n",
       "  'text': 'Зенитом'},\n",
       " {'text': '» '},\n",
       " {'analysis': [{'lex': 'красный', 'wt': 1, 'gr': 'A=ед,кр,сред'}],\n",
       "  'text': 'красно'},\n",
       " {'text': '-'},\n",
       " {'analysis': [{'lex': 'белый',\n",
       "    'wt': 0.9948287685,\n",
       "    'gr': 'A=(вин,мн,полн,неод|им,мн,полн)'}],\n",
       "  'text': 'белые'},\n",
       " {'text': ' '},\n",
       " {'analysis': [{'lex': 'выпускать', 'wt': 1, 'gr': 'V=прош,мн,изъяв,сов'}],\n",
       "  'text': 'выпустили'},\n",
       " {'text': ' '},\n",
       " {'analysis': [{'lex': 'смелый',\n",
       "    'wt': 1,\n",
       "    'gr': 'A=(вин,ед,полн,муж,неод|им,ед,полн,муж)'}],\n",
       "  'text': 'смелый'},\n",
       " {'text': ' '},\n",
       " {'analysis': [{'lex': 'ролик', 'wt': 1, 'gr': 'S,муж,неод=(вин,ед|им,ед)'}],\n",
       "  'text': 'ролик'},\n",
       " {'text': ': '},\n",
       " {'analysis': [{'lex': 'с', 'wt': 0.999977831, 'gr': 'PR='}], 'text': 'с'},\n",
       " {'text': ' '},\n",
       " {'analysis': [{'lex': 'критика', 'wt': 1, 'gr': 'S,жен,неод=твор,ед'}],\n",
       "  'text': 'критикой'},\n",
       " {'text': ' '},\n",
       " {'analysis': [], 'text': 'РФС'},\n",
       " {'text': ' («'},\n",
       " {'analysis': [{'lex': 'проклятый',\n",
       "    'wt': 0.9575200494,\n",
       "    'gr': 'A=(вин,ед,полн,муж,неод|им,ед,полн,муж)'}],\n",
       "  'text': 'проклятый'},\n",
       " {'text': ' '},\n",
       " {'analysis': [{'lex': 'старый',\n",
       "    'wt': 1,\n",
       "    'gr': 'A=(вин,ед,полн,муж,неод|им,ед,полн,муж)'}],\n",
       "  'text': 'старый'},\n",
       " {'text': ' '},\n",
       " {'analysis': [{'lex': 'дом', 'wt': 1, 'gr': 'S,муж,неод=(вин,ед|им,ед)'}],\n",
       "  'text': 'дом'},\n",
       " {'text': '» '},\n",
       " {'analysis': [{'lex': 'на', 'wt': 0.9989522965, 'gr': 'PR='}], 'text': 'на'},\n",
       " {'text': ' '},\n",
       " {'analysis': [{'lex': 'народный',\n",
       "    'wt': 1,\n",
       "    'gr': 'A=(пр,ед,полн,жен|дат,ед,полн,жен|род,ед,полн,жен|твор,ед,полн,жен)'}],\n",
       "  'text': 'Народной'},\n",
       " {'text': ', '},\n",
       " {'text': '7'},\n",
       " {'text': '), '},\n",
       " {'analysis': [{'lex': 'гегемония',\n",
       "    'wt': 1,\n",
       "    'gr': 'S,жен,неод=(пр,ед|вин,мн|дат,ед|род,ед|им,мн)'}],\n",
       "  'text': 'гегемонии'},\n",
       " {'text': ' «'},\n",
       " {'analysis': [{'lex': 'зенит', 'wt': 1, 'gr': 'S,муж,неод=род,ед'}],\n",
       "  'text': 'Зенита'},\n",
       " {'text': '», '},\n",
       " {'analysis': [{'lex': 'а', 'wt': 0.9822148501, 'gr': 'CONJ='}], 'text': 'а'},\n",
       " {'text': ' '},\n",
       " {'analysis': [{'lex': 'также', 'wt': 0.9985197199, 'gr': 'ADV='}],\n",
       "  'text': 'также'},\n",
       " {'text': ' '},\n",
       " {'analysis': [{'lex': 'весь',\n",
       "    'wt': 0.6929341789,\n",
       "    'gr': 'APRO=(пр,мн|род,мн|вин,мн,од)'}],\n",
       "  'text': 'всех'},\n",
       " {'text': ' «'},\n",
       " {'analysis': [{'lex': 'чудовище',\n",
       "    'wt': 1,\n",
       "    'gr': 'S,сред,од=(вин,мн|род,мн)'}],\n",
       "  'text': 'чудовищ'},\n",
       " {'text': '» '},\n",
       " {'analysis': [{'lex': 'российский',\n",
       "    'wt': 1,\n",
       "    'gr': 'A=(вин,ед,полн,муж,од|род,ед,полн,муж|род,ед,полн,сред)'}],\n",
       "  'text': 'российского'},\n",
       " {'text': ' '},\n",
       " {'analysis': [{'lex': 'футбол', 'wt': 1, 'gr': 'S,муж,неод=род,ед'}],\n",
       "  'text': 'футбола'},\n",
       " {'text': ' ('},\n",
       " {'analysis': [{'lex': 'судейство',\n",
       "    'wt': 1,\n",
       "    'gr': 'S,сред,неод=(вин,ед|им,ед)'}],\n",
       "  'text': 'судейство'},\n",
       " {'text': ', '},\n",
       " {'analysis': [{'lex': 'бюджетный',\n",
       "    'wt': 1,\n",
       "    'gr': 'A=(вин,мн,полн,неод|им,мн,полн)'}],\n",
       "  'text': 'бюджетные'},\n",
       " {'text': ' '},\n",
       " {'analysis': [{'lex': 'деньги',\n",
       "    'wt': 0.9990349629,\n",
       "    'gr': 'S,мн,неод=(вин|им)'}],\n",
       "  'text': 'деньги'},\n",
       " {'text': ', '},\n",
       " {'analysis': [{'lex': 'фарм',\n",
       "    'wt': 1,\n",
       "    'qual': 'bastard',\n",
       "    'gr': 'S,муж,неод=(вин,ед|им,ед)'}],\n",
       "  'text': 'фарм'},\n",
       " {'text': '-'},\n",
       " {'analysis': [{'lex': 'клуб', 'wt': 1, 'gr': 'S,муж,неод=(вин,мн|им,мн)'}],\n",
       "  'text': 'клубы'},\n",
       " {'text': ')'},\n",
       " {'text': '.'},\n",
       " {'text': '\\n'}]"
      ]
     },
     "execution_count": 20,
     "metadata": {},
     "output_type": "execute_result"
    }
   ],
   "source": [
    "analys_sent[3]"
   ]
  },
  {
   "cell_type": "code",
   "execution_count": 22,
   "id": "69c6dc98",
   "metadata": {},
   "outputs": [],
   "source": [
    "with open('./texts/analize.json', 'w', encoding='utf-16') as f:\n",
    "    json.dump(analys_sent, f, ensure_ascii=False)"
   ]
  },
  {
   "cell_type": "code",
   "execution_count": null,
   "id": "e36a45f1",
   "metadata": {},
   "outputs": [],
   "source": []
  },
  {
   "cell_type": "code",
   "execution_count": null,
   "id": "363d1baf",
   "metadata": {},
   "outputs": [],
   "source": []
  }
 ],
 "metadata": {
  "kernelspec": {
   "display_name": "Python 3 (ipykernel)",
   "language": "python",
   "name": "python3"
  },
  "language_info": {
   "codemirror_mode": {
    "name": "ipython",
    "version": 3
   },
   "file_extension": ".py",
   "mimetype": "text/x-python",
   "name": "python",
   "nbconvert_exporter": "python",
   "pygments_lexer": "ipython3",
   "version": "3.8.10"
  }
 },
 "nbformat": 4,
 "nbformat_minor": 5
}
